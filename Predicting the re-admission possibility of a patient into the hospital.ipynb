{
 "cells": [
  {
   "cell_type": "markdown",
   "metadata": {
    "slideshow": {
     "slide_type": "slide"
    }
   },
   "source": [
    "## Business Problem"
   ]
  },
  {
   "cell_type": "markdown",
   "metadata": {
    "slideshow": {
     "slide_type": "fragment"
    }
   },
   "source": [
    "Hospital readmission rates for certain conditions are now considered an indicator of hospital quality, and also affect the cost of care adversely. For this reason, Centers for Medicare & Medicaid Services established the Hospital Readmissions Reduction Program [link](https://www.cms.gov/medicare/medicare-fee-for-service-payment/acuteinpatientpps/readmissions-reduction-program.html) which aims to improve quality of care for patients and reduce healthcare spending by applying payment penalties to hospitals that have more than expected readmission rates for certain conditions.\n",
    "\n",
    "Being able to determine factors that lead to higher readmission in such patients, and correspondingly being able to predict which patients will get readmitted can help hospitals save millions of dollars while improving quality of care. So, with that background in mind, we used a medical claims dataset at hand, to answer these questions:\n",
    "* Which feature are the strongest predictors of hospital readmission.\n",
    "* And, How well these predictor hepl us to predict hospital readmission."
   ]
  },
  {
   "cell_type": "markdown",
   "metadata": {
    "slideshow": {
     "slide_type": "slide"
    }
   },
   "source": [
    "## Machine learning Solution"
   ]
  },
  {
   "cell_type": "markdown",
   "metadata": {
    "slideshow": {
     "slide_type": "fragment"
    }
   },
   "source": [
    "With given problem statement at hand, i tried to create a classification model which predict the re-admission possibility of a patient into the hospital. To do so, i followed the below model building approch:\n",
    "* Data Exploration\n",
    "* Data pre processing\n",
    "* Data Visulaization\n",
    "* Feature engineering\n",
    "* Feature creation\n",
    "* Model buliding \n",
    "    * Logistic Regression\n",
    "    * Decision Tree\n",
    "    * Random Forest\n"
   ]
  },
  {
   "cell_type": "markdown",
   "metadata": {
    "slideshow": {
     "slide_type": "slide"
    }
   },
   "source": [
    "### Data Preparation & Exploration"
   ]
  },
  {
   "cell_type": "code",
   "execution_count": 2,
   "metadata": {
    "slideshow": {
     "slide_type": "fragment"
    }
   },
   "outputs": [],
   "source": [
    "# Importing libraries\n",
    "import pandas as pd\n",
    "import numpy as np\n",
    "import matplotlib.pyplot as plt\n",
    "import seaborn as sns\n",
    "%matplotlib inline"
   ]
  },
  {
   "cell_type": "code",
   "execution_count": 3,
   "metadata": {
    "slideshow": {
     "slide_type": "subslide"
    }
   },
   "outputs": [],
   "source": [
    "# Readiing files\n",
    "Train = pd.read_csv(\"Train.csv\")\n",
    "Diagnosis = pd.read_csv(\"Train_Diagnosis_TreatmentData.csv\")\n",
    "Hospitalization = pd.read_csv(\"Train_HospitalizationData.csv\")"
   ]
  },
  {
   "cell_type": "code",
   "execution_count": 4,
   "metadata": {
    "slideshow": {
     "slide_type": "subslide"
    }
   },
   "outputs": [],
   "source": [
    "#Combining files\n",
    "from functools import reduce\n",
    "dfs = [Train, Diagnosis, Hospitalization]\n",
    "df = reduce(lambda left,right: pd.merge(left,right,on='patientID'), dfs)"
   ]
  },
  {
   "cell_type": "code",
   "execution_count": 7,
   "metadata": {
    "slideshow": {
     "slide_type": "subslide"
    }
   },
   "outputs": [
    {
     "name": "stdout",
     "output_type": "stream",
     "text": [
      "<class 'pandas.core.frame.DataFrame'>\n",
      "Int64Index: 34650 entries, 0 to 34649\n",
      "Data columns (total 45 columns):\n",
      "patientID                   34650 non-null object\n",
      "race                        34650 non-null object\n",
      "gender                      34650 non-null object\n",
      "age                         34650 non-null object\n",
      "weight                      34650 non-null object\n",
      "readmitted                  34650 non-null object\n",
      "num_lab_procedures          34650 non-null int64\n",
      "num_procedures              34650 non-null int64\n",
      "num_medications             34650 non-null int64\n",
      "num_diagnoses               34650 non-null int64\n",
      "diagnosis_1                 34650 non-null object\n",
      "diagnosis_2                 34650 non-null object\n",
      "diagnosis_3                 34650 non-null object\n",
      "max_glu_serum               34650 non-null object\n",
      "A1Cresult                   34650 non-null object\n",
      "metformin                   34650 non-null object\n",
      "repaglinide                 34650 non-null object\n",
      "nateglinide                 34650 non-null object\n",
      "chlorpropamide              34650 non-null object\n",
      "glimepiride                 34650 non-null object\n",
      "acetohexamide               34650 non-null object\n",
      "glipizide                   34650 non-null object\n",
      "glyburide                   34650 non-null object\n",
      "tolbutamide                 34650 non-null object\n",
      "pioglitazone                34650 non-null object\n",
      "rosiglitazone               34650 non-null object\n",
      "acarbose                    34650 non-null object\n",
      "miglitol                    34650 non-null object\n",
      "troglitazone                34650 non-null object\n",
      "tolazamide                  34650 non-null object\n",
      "insulin                     34650 non-null object\n",
      "glyburide.metformin         34650 non-null object\n",
      "glipizide.metformin         34650 non-null object\n",
      "metformin.rosiglitazone     34650 non-null object\n",
      "metformin.pioglitazone      34650 non-null object\n",
      "change                      34650 non-null object\n",
      "diabetesMed                 34650 non-null object\n",
      "AdmissionID                 34650 non-null object\n",
      "Admission_date              34650 non-null object\n",
      "Discharge_date              34650 non-null object\n",
      "admission_type_id           34650 non-null int64\n",
      "discharge_disposition_id    34650 non-null int64\n",
      "admission_source_id         34650 non-null int64\n",
      "payer_code                  34650 non-null object\n",
      "medical_specialty           34650 non-null object\n",
      "dtypes: int64(7), object(38)\n",
      "memory usage: 12.2+ MB\n",
      "None\n"
     ]
    }
   ],
   "source": [
    "print(df.info())"
   ]
  },
  {
   "cell_type": "code",
   "execution_count": 9,
   "metadata": {
    "slideshow": {
     "slide_type": "subslide"
    }
   },
   "outputs": [
    {
     "data": {
      "text/html": [
       "<div>\n",
       "<style scoped>\n",
       "    .dataframe tbody tr th:only-of-type {\n",
       "        vertical-align: middle;\n",
       "    }\n",
       "\n",
       "    .dataframe tbody tr th {\n",
       "        vertical-align: top;\n",
       "    }\n",
       "\n",
       "    .dataframe thead th {\n",
       "        text-align: right;\n",
       "    }\n",
       "</style>\n",
       "<table border=\"1\" class=\"dataframe\">\n",
       "  <thead>\n",
       "    <tr style=\"text-align: right;\">\n",
       "      <th></th>\n",
       "      <th>num_lab_procedures</th>\n",
       "      <th>num_procedures</th>\n",
       "      <th>num_medications</th>\n",
       "      <th>num_diagnoses</th>\n",
       "      <th>admission_type_id</th>\n",
       "      <th>discharge_disposition_id</th>\n",
       "      <th>admission_source_id</th>\n",
       "    </tr>\n",
       "  </thead>\n",
       "  <tbody>\n",
       "    <tr>\n",
       "      <th>count</th>\n",
       "      <td>34650.000000</td>\n",
       "      <td>34650.000000</td>\n",
       "      <td>34650.000000</td>\n",
       "      <td>34650.000000</td>\n",
       "      <td>34650.000000</td>\n",
       "      <td>34650.000000</td>\n",
       "      <td>34650.000000</td>\n",
       "    </tr>\n",
       "    <tr>\n",
       "      <th>mean</th>\n",
       "      <td>42.649206</td>\n",
       "      <td>1.453131</td>\n",
       "      <td>15.584762</td>\n",
       "      <td>7.122886</td>\n",
       "      <td>2.081558</td>\n",
       "      <td>3.749986</td>\n",
       "      <td>5.526753</td>\n",
       "    </tr>\n",
       "    <tr>\n",
       "      <th>std</th>\n",
       "      <td>19.899355</td>\n",
       "      <td>1.759489</td>\n",
       "      <td>8.509216</td>\n",
       "      <td>2.039727</td>\n",
       "      <td>1.472163</td>\n",
       "      <td>5.459886</td>\n",
       "      <td>4.101795</td>\n",
       "    </tr>\n",
       "    <tr>\n",
       "      <th>min</th>\n",
       "      <td>1.000000</td>\n",
       "      <td>0.000000</td>\n",
       "      <td>1.000000</td>\n",
       "      <td>1.000000</td>\n",
       "      <td>1.000000</td>\n",
       "      <td>1.000000</td>\n",
       "      <td>1.000000</td>\n",
       "    </tr>\n",
       "    <tr>\n",
       "      <th>25%</th>\n",
       "      <td>31.000000</td>\n",
       "      <td>0.000000</td>\n",
       "      <td>10.000000</td>\n",
       "      <td>5.000000</td>\n",
       "      <td>1.000000</td>\n",
       "      <td>1.000000</td>\n",
       "      <td>1.000000</td>\n",
       "    </tr>\n",
       "    <tr>\n",
       "      <th>50%</th>\n",
       "      <td>44.000000</td>\n",
       "      <td>1.000000</td>\n",
       "      <td>14.000000</td>\n",
       "      <td>8.000000</td>\n",
       "      <td>1.000000</td>\n",
       "      <td>1.000000</td>\n",
       "      <td>7.000000</td>\n",
       "    </tr>\n",
       "    <tr>\n",
       "      <th>75%</th>\n",
       "      <td>57.000000</td>\n",
       "      <td>2.000000</td>\n",
       "      <td>20.000000</td>\n",
       "      <td>9.000000</td>\n",
       "      <td>3.000000</td>\n",
       "      <td>3.000000</td>\n",
       "      <td>7.000000</td>\n",
       "    </tr>\n",
       "    <tr>\n",
       "      <th>max</th>\n",
       "      <td>132.000000</td>\n",
       "      <td>6.000000</td>\n",
       "      <td>81.000000</td>\n",
       "      <td>16.000000</td>\n",
       "      <td>8.000000</td>\n",
       "      <td>28.000000</td>\n",
       "      <td>25.000000</td>\n",
       "    </tr>\n",
       "  </tbody>\n",
       "</table>\n",
       "</div>"
      ],
      "text/plain": [
       "       num_lab_procedures  num_procedures  num_medications  num_diagnoses  \\\n",
       "count        34650.000000    34650.000000     34650.000000   34650.000000   \n",
       "mean            42.649206        1.453131        15.584762       7.122886   \n",
       "std             19.899355        1.759489         8.509216       2.039727   \n",
       "min              1.000000        0.000000         1.000000       1.000000   \n",
       "25%             31.000000        0.000000        10.000000       5.000000   \n",
       "50%             44.000000        1.000000        14.000000       8.000000   \n",
       "75%             57.000000        2.000000        20.000000       9.000000   \n",
       "max            132.000000        6.000000        81.000000      16.000000   \n",
       "\n",
       "       admission_type_id  discharge_disposition_id  admission_source_id  \n",
       "count       34650.000000              34650.000000         34650.000000  \n",
       "mean            2.081558                  3.749986             5.526753  \n",
       "std             1.472163                  5.459886             4.101795  \n",
       "min             1.000000                  1.000000             1.000000  \n",
       "25%             1.000000                  1.000000             1.000000  \n",
       "50%             1.000000                  1.000000             7.000000  \n",
       "75%             3.000000                  3.000000             7.000000  \n",
       "max             8.000000                 28.000000            25.000000  "
      ]
     },
     "execution_count": 9,
     "metadata": {},
     "output_type": "execute_result"
    }
   ],
   "source": [
    "df.describe()"
   ]
  },
  {
   "cell_type": "code",
   "execution_count": 10,
   "metadata": {
    "slideshow": {
     "slide_type": "subslide"
    }
   },
   "outputs": [
    {
     "data": {
      "text/html": [
       "<div>\n",
       "<style scoped>\n",
       "    .dataframe tbody tr th:only-of-type {\n",
       "        vertical-align: middle;\n",
       "    }\n",
       "\n",
       "    .dataframe tbody tr th {\n",
       "        vertical-align: top;\n",
       "    }\n",
       "\n",
       "    .dataframe thead th {\n",
       "        text-align: right;\n",
       "    }\n",
       "</style>\n",
       "<table border=\"1\" class=\"dataframe\">\n",
       "  <thead>\n",
       "    <tr style=\"text-align: right;\">\n",
       "      <th></th>\n",
       "      <th>patientID</th>\n",
       "      <th>race</th>\n",
       "      <th>gender</th>\n",
       "      <th>age</th>\n",
       "      <th>weight</th>\n",
       "      <th>readmitted</th>\n",
       "      <th>num_lab_procedures</th>\n",
       "      <th>num_procedures</th>\n",
       "      <th>num_medications</th>\n",
       "      <th>num_diagnoses</th>\n",
       "      <th>...</th>\n",
       "      <th>change</th>\n",
       "      <th>diabetesMed</th>\n",
       "      <th>AdmissionID</th>\n",
       "      <th>Admission_date</th>\n",
       "      <th>Discharge_date</th>\n",
       "      <th>admission_type_id</th>\n",
       "      <th>discharge_disposition_id</th>\n",
       "      <th>admission_source_id</th>\n",
       "      <th>payer_code</th>\n",
       "      <th>medical_specialty</th>\n",
       "    </tr>\n",
       "  </thead>\n",
       "  <tbody>\n",
       "    <tr>\n",
       "      <th>0</th>\n",
       "      <td>PT11101</td>\n",
       "      <td>Caucasian</td>\n",
       "      <td>Male</td>\n",
       "      <td>[80-90)</td>\n",
       "      <td>?</td>\n",
       "      <td>NO</td>\n",
       "      <td>18</td>\n",
       "      <td>1</td>\n",
       "      <td>7</td>\n",
       "      <td>7</td>\n",
       "      <td>...</td>\n",
       "      <td>Ch</td>\n",
       "      <td>Yes</td>\n",
       "      <td>ADM31792</td>\n",
       "      <td>2015-07-18</td>\n",
       "      <td>2015-07-23</td>\n",
       "      <td>2</td>\n",
       "      <td>1</td>\n",
       "      <td>7</td>\n",
       "      <td>SP</td>\n",
       "      <td>Emergency/Trauma</td>\n",
       "    </tr>\n",
       "    <tr>\n",
       "      <th>1</th>\n",
       "      <td>PT11102</td>\n",
       "      <td>Caucasian</td>\n",
       "      <td>Male</td>\n",
       "      <td>[70-80)</td>\n",
       "      <td>?</td>\n",
       "      <td>NO</td>\n",
       "      <td>40</td>\n",
       "      <td>4</td>\n",
       "      <td>16</td>\n",
       "      <td>9</td>\n",
       "      <td>...</td>\n",
       "      <td>No</td>\n",
       "      <td>Yes</td>\n",
       "      <td>ADM42286</td>\n",
       "      <td>2016-04-23</td>\n",
       "      <td>2016-04-29</td>\n",
       "      <td>1</td>\n",
       "      <td>3</td>\n",
       "      <td>7</td>\n",
       "      <td>HM</td>\n",
       "      <td>?</td>\n",
       "    </tr>\n",
       "    <tr>\n",
       "      <th>2</th>\n",
       "      <td>PT11103</td>\n",
       "      <td>?</td>\n",
       "      <td>Female</td>\n",
       "      <td>[60-70)</td>\n",
       "      <td>?</td>\n",
       "      <td>NO</td>\n",
       "      <td>39</td>\n",
       "      <td>1</td>\n",
       "      <td>12</td>\n",
       "      <td>5</td>\n",
       "      <td>...</td>\n",
       "      <td>Ch</td>\n",
       "      <td>Yes</td>\n",
       "      <td>ADM43029</td>\n",
       "      <td>2016-05-13</td>\n",
       "      <td>2016-05-17</td>\n",
       "      <td>2</td>\n",
       "      <td>1</td>\n",
       "      <td>1</td>\n",
       "      <td>MC</td>\n",
       "      <td>InternalMedicine</td>\n",
       "    </tr>\n",
       "    <tr>\n",
       "      <th>3</th>\n",
       "      <td>PT11104</td>\n",
       "      <td>Caucasian</td>\n",
       "      <td>Female</td>\n",
       "      <td>[70-80)</td>\n",
       "      <td>?</td>\n",
       "      <td>NO</td>\n",
       "      <td>1</td>\n",
       "      <td>0</td>\n",
       "      <td>10</td>\n",
       "      <td>9</td>\n",
       "      <td>...</td>\n",
       "      <td>No</td>\n",
       "      <td>Yes</td>\n",
       "      <td>ADM30585</td>\n",
       "      <td>2015-06-16</td>\n",
       "      <td>2015-06-18</td>\n",
       "      <td>1</td>\n",
       "      <td>1</td>\n",
       "      <td>7</td>\n",
       "      <td>MC</td>\n",
       "      <td>?</td>\n",
       "    </tr>\n",
       "    <tr>\n",
       "      <th>4</th>\n",
       "      <td>PT11105</td>\n",
       "      <td>Caucasian</td>\n",
       "      <td>Female</td>\n",
       "      <td>[60-70)</td>\n",
       "      <td>?</td>\n",
       "      <td>Within30days</td>\n",
       "      <td>44</td>\n",
       "      <td>0</td>\n",
       "      <td>16</td>\n",
       "      <td>9</td>\n",
       "      <td>...</td>\n",
       "      <td>No</td>\n",
       "      <td>Yes</td>\n",
       "      <td>ADM40516</td>\n",
       "      <td>2016-03-08</td>\n",
       "      <td>2016-03-09</td>\n",
       "      <td>1</td>\n",
       "      <td>1</td>\n",
       "      <td>7</td>\n",
       "      <td>MD</td>\n",
       "      <td>?</td>\n",
       "    </tr>\n",
       "  </tbody>\n",
       "</table>\n",
       "<p>5 rows × 45 columns</p>\n",
       "</div>"
      ],
      "text/plain": [
       "  patientID       race  gender      age weight    readmitted  \\\n",
       "0   PT11101  Caucasian    Male  [80-90)      ?            NO   \n",
       "1   PT11102  Caucasian    Male  [70-80)      ?            NO   \n",
       "2   PT11103          ?  Female  [60-70)      ?            NO   \n",
       "3   PT11104  Caucasian  Female  [70-80)      ?            NO   \n",
       "4   PT11105  Caucasian  Female  [60-70)      ?  Within30days   \n",
       "\n",
       "   num_lab_procedures  num_procedures  num_medications  num_diagnoses  \\\n",
       "0                  18               1                7              7   \n",
       "1                  40               4               16              9   \n",
       "2                  39               1               12              5   \n",
       "3                   1               0               10              9   \n",
       "4                  44               0               16              9   \n",
       "\n",
       "         ...        change diabetesMed AdmissionID Admission_date  \\\n",
       "0        ...            Ch         Yes    ADM31792     2015-07-18   \n",
       "1        ...            No         Yes    ADM42286     2016-04-23   \n",
       "2        ...            Ch         Yes    ADM43029     2016-05-13   \n",
       "3        ...            No         Yes    ADM30585     2015-06-16   \n",
       "4        ...            No         Yes    ADM40516     2016-03-08   \n",
       "\n",
       "  Discharge_date admission_type_id discharge_disposition_id  \\\n",
       "0     2015-07-23                 2                        1   \n",
       "1     2016-04-29                 1                        3   \n",
       "2     2016-05-17                 2                        1   \n",
       "3     2015-06-18                 1                        1   \n",
       "4     2016-03-09                 1                        1   \n",
       "\n",
       "  admission_source_id payer_code medical_specialty  \n",
       "0                   7         SP  Emergency/Trauma  \n",
       "1                   7         HM                 ?  \n",
       "2                   1         MC  InternalMedicine  \n",
       "3                   7         MC                 ?  \n",
       "4                   7         MD                 ?  \n",
       "\n",
       "[5 rows x 45 columns]"
      ]
     },
     "execution_count": 10,
     "metadata": {},
     "output_type": "execute_result"
    }
   ],
   "source": [
    "df.head()"
   ]
  },
  {
   "cell_type": "markdown",
   "metadata": {
    "slideshow": {
     "slide_type": "slide"
    }
   },
   "source": [
    "### Missing Values and Data imputation"
   ]
  },
  {
   "cell_type": "code",
   "execution_count": 11,
   "metadata": {
    "slideshow": {
     "slide_type": "fragment"
    }
   },
   "outputs": [
    {
     "name": "stdout",
     "output_type": "stream",
     "text": [
      "Empty DataFrame\n",
      "Columns: [patientID, race, gender, age, weight, readmitted, num_lab_procedures, num_procedures, num_medications, num_diagnoses, diagnosis_1, diagnosis_2, diagnosis_3, max_glu_serum, A1Cresult, metformin, repaglinide, nateglinide, chlorpropamide, glimepiride, acetohexamide, glipizide, glyburide, tolbutamide, pioglitazone, rosiglitazone, acarbose, miglitol, troglitazone, tolazamide, insulin, glyburide.metformin, glipizide.metformin, metformin.rosiglitazone, metformin.pioglitazone, change, diabetesMed, AdmissionID, Admission_date, Discharge_date, admission_type_id, discharge_disposition_id, admission_source_id, payer_code, medical_specialty]\n",
      "Index: []\n",
      "\n",
      "[0 rows x 45 columns]\n"
     ]
    }
   ],
   "source": [
    "# Checking for duplicate rows\n",
    "duplicateRows = df[df.duplicated()]\n",
    "print(duplicateRows)"
   ]
  },
  {
   "cell_type": "code",
   "execution_count": 12,
   "metadata": {
    "slideshow": {
     "slide_type": "subslide"
    }
   },
   "outputs": [
    {
     "data": {
      "text/plain": [
       "patientID                       0\n",
       "race                         1079\n",
       "gender                          0\n",
       "age                             0\n",
       "weight                      33592\n",
       "readmitted                      0\n",
       "num_lab_procedures              0\n",
       "num_procedures                  0\n",
       "num_medications                 0\n",
       "num_diagnoses                   0\n",
       "diagnosis_1                     6\n",
       "diagnosis_2                   179\n",
       "diagnosis_3                   681\n",
       "max_glu_serum                   0\n",
       "A1Cresult                       0\n",
       "metformin                       0\n",
       "repaglinide                     0\n",
       "nateglinide                     0\n",
       "chlorpropamide                  0\n",
       "glimepiride                     0\n",
       "acetohexamide                   0\n",
       "glipizide                       0\n",
       "glyburide                       0\n",
       "tolbutamide                     0\n",
       "pioglitazone                    0\n",
       "rosiglitazone                   0\n",
       "acarbose                        0\n",
       "miglitol                        0\n",
       "troglitazone                    0\n",
       "tolazamide                      0\n",
       "insulin                         0\n",
       "glyburide.metformin             0\n",
       "glipizide.metformin             0\n",
       "metformin.rosiglitazone         0\n",
       "metformin.pioglitazone          0\n",
       "change                          0\n",
       "diabetesMed                     0\n",
       "AdmissionID                     0\n",
       "Admission_date                  0\n",
       "Discharge_date                  0\n",
       "admission_type_id               0\n",
       "discharge_disposition_id        0\n",
       "admission_source_id             0\n",
       "payer_code                  14719\n",
       "medical_specialty           16394\n",
       "dtype: int64"
      ]
     },
     "execution_count": 12,
     "metadata": {},
     "output_type": "execute_result"
    }
   ],
   "source": [
    "# Replacing '?' with na and checking the count\n",
    "df=df.replace('?', np.NaN)\n",
    "df.isnull().sum()"
   ]
  },
  {
   "cell_type": "code",
   "execution_count": 13,
   "metadata": {
    "slideshow": {
     "slide_type": "subslide"
    }
   },
   "outputs": [],
   "source": [
    "#dropping columns with large number of missing values\n",
    "#Variable weight contains 96.94% missing value so removing it\n",
    "#payer_code contains 42.47 % missing value so removing it\n",
    "#medical_specialty contains 47.31% missing value so removing it\n",
    "df = df.drop(['weight','payer_code','medical_specialty'], axis = 1)"
   ]
  },
  {
   "cell_type": "code",
   "execution_count": 14,
   "metadata": {
    "slideshow": {
     "slide_type": "subslide"
    }
   },
   "outputs": [],
   "source": [
    "# Impute missing values. \n",
    "# Columns of dtype object are imputed with the most frequent value in column.\n",
    "# Columns of other types are imputed with mean of column.\n",
    "df[\"race\"].fillna(df.groupby(\"age\")[\"race\"].transform(lambda x: x.fillna(x.mode()[0])), inplace=True)\n",
    "df[\"diagnosis_1\"].fillna(df.groupby(\"age\")[\"diagnosis_1\"].transform(lambda x: x.fillna(x.mode()[0])), inplace=True)\n",
    "df[\"diagnosis_2\"].fillna(df.groupby(\"age\")[\"diagnosis_2\"].transform(lambda x: x.fillna(x.mode()[0])), inplace=True)\n",
    "df[\"diagnosis_3\"].fillna(df.groupby(\"age\")[\"diagnosis_3\"].transform(lambda x: x.fillna(x.mode()[0])), inplace=True)"
   ]
  },
  {
   "cell_type": "markdown",
   "metadata": {
    "slideshow": {
     "slide_type": "slide"
    }
   },
   "source": [
    "### Feature engineering and Visulaization"
   ]
  },
  {
   "cell_type": "code",
   "execution_count": 15,
   "metadata": {
    "slideshow": {
     "slide_type": "fragment"
    }
   },
   "outputs": [
    {
     "data": {
      "text/plain": [
       "0    29891\n",
       "1     4759\n",
       "Name: readmitted, dtype: int64"
      ]
     },
     "execution_count": 15,
     "metadata": {},
     "output_type": "execute_result"
    }
   ],
   "source": [
    "# Distribution of Readmission\n",
    "df['readmitted'] = df['readmitted'].replace('Within30days', 1)\n",
    "df['readmitted'] = df['readmitted'].replace('NO', 0)\n",
    "df['readmitted'].value_counts()"
   ]
  },
  {
   "cell_type": "code",
   "execution_count": 16,
   "metadata": {
    "slideshow": {
     "slide_type": "fragment"
    }
   },
   "outputs": [
    {
     "data": {
      "text/plain": [
       "Text(0.5,1,'Distribution of Readmission')"
      ]
     },
     "execution_count": 16,
     "metadata": {},
     "output_type": "execute_result"
    },
    {
     "data": {
      "image/png": "[encoded data removed]",
      "text/plain": [
       "<Figure size 576x576 with 1 Axes>"
      ]
     },
     "metadata": {},
     "output_type": "display_data"
    }
   ],
   "source": [
    "fig = plt.figure(figsize=(8,8)) \n",
    "sns.countplot(df['readmitted']).set_title('Distribution of Readmission')"
   ]
  },
  {
   "cell_type": "code",
   "execution_count": 17,
   "metadata": {
    "slideshow": {
     "slide_type": "subslide"
    }
   },
   "outputs": [],
   "source": [
    "#Encoding race variable\n",
    "df['race'] = df['race'].replace('Caucasian', 0)\n",
    "df['race'] = df['race'].replace('AfricanAmerican', 1)\n",
    "df['race'] = df['race'].replace('Hispanic', 2)\n",
    "df['race'] = df['race'].replace('Other', 3)\n",
    "df['race'] = df['race'].replace('Asian', 4)"
   ]
  },
  {
   "cell_type": "code",
   "execution_count": 85,
   "metadata": {
    "slideshow": {
     "slide_type": "fragment"
    }
   },
   "outputs": [
    {
     "data": {
      "text/plain": [
       "Text(0.5,1,'Distribution of Readmission')"
      ]
     },
     "execution_count": 85,
     "metadata": {},
     "output_type": "execute_result"
    },
    {
     "data": {
      "image/png": "[encoded data removed]",
      "text/plain": [
       "<Figure size 576x576 with 1 Axes>"
      ]
     },
     "metadata": {},
     "output_type": "display_data"
    }
   ],
   "source": [
    "fig = plt.figure(figsize=(8,8)) \n",
    "sns.countplot(df['race']).set_title('Distribution of Readmission')"
   ]
  },
  {
   "cell_type": "code",
   "execution_count": 18,
   "metadata": {
    "slideshow": {
     "slide_type": "slide"
    }
   },
   "outputs": [
    {
     "name": "stdout",
     "output_type": "stream",
     "text": [
      "75    8532\n",
      "65    7677\n",
      "55    6098\n",
      "85    5486\n",
      "45    3409\n",
      "35    1468\n",
      "95    1015\n",
      "25     598\n",
      "15     277\n",
      "5       90\n",
      "Name: age, dtype: int64\n"
     ]
    }
   ],
   "source": [
    "# Age as we know is ordinal but in data set its given as nominal, so converting nominal to ordinal taking average of ranges\n",
    "df['age'] = df['age'].replace('[0-10)', 5)\n",
    "df['age'] = df['age'].replace('[10-20)',15)\n",
    "df['age'] = df['age'].replace('[20-30)',25)\n",
    "df['age'] = df['age'].replace('[30-40)',35)\n",
    "df['age'] = df['age'].replace('[40-50)',45)\n",
    "df['age'] = df['age'].replace('[50-60)',55)\n",
    "df['age'] = df['age'].replace('[60-70)',65)\n",
    "df['age'] = df['age'].replace('[70-80)',75)\n",
    "df['age'] = df['age'].replace('[80-90)',85)\n",
    "df['age'] = df['age'].replace('[90-100)',95)\n",
    "\n",
    "df['age'] = df['age'].astype('int32')\n",
    "\n",
    "print(df.age.value_counts())"
   ]
  },
  {
   "cell_type": "code",
   "execution_count": 19,
   "metadata": {
    "slideshow": {
     "slide_type": "fragment"
    }
   },
   "outputs": [
    {
     "data": {
      "text/plain": [
       "Text(0.5,1,'Age of Patient VS Readmission')"
      ]
     },
     "execution_count": 19,
     "metadata": {},
     "output_type": "execute_result"
    },
    {
     "data": {
      "image/png": "[encoded data removed]",
      "text/plain": [
       "<Figure size 1008x720 with 1 Axes>"
      ]
     },
     "metadata": {},
     "output_type": "display_data"
    }
   ],
   "source": [
    "fig = plt.figure(figsize=(14,10))\n",
    "sns.countplot(x= df['age'], hue = df['readmitted']).set_title('Age of Patient VS Readmission')"
   ]
  },
  {
   "cell_type": "code",
   "execution_count": 20,
   "metadata": {
    "slideshow": {
     "slide_type": "subslide"
    }
   },
   "outputs": [],
   "source": [
    "#Encoding gender as 0 & 1\n",
    "df['gender'] = df['gender'].replace('Male', 1)\n",
    "df['gender'] = df['gender'].replace('Female', 0)"
   ]
  },
  {
   "cell_type": "code",
   "execution_count": 21,
   "metadata": {
    "slideshow": {
     "slide_type": "fragment"
    }
   },
   "outputs": [
    {
     "data": {
      "text/plain": [
       "Text(0.5,1,'Gender of Patient VS Readmission')"
      ]
     },
     "execution_count": 21,
     "metadata": {},
     "output_type": "execute_result"
    },
    {
     "data": {
      "image/png": "[encoded data removed]",
      "text/plain": [
       "<Figure size 576x576 with 1 Axes>"
      ]
     },
     "metadata": {},
     "output_type": "display_data"
    }
   ],
   "source": [
    "fig = plt.figure(figsize=(8,8))\n",
    "sns.countplot(df['gender'], hue = df['readmitted']).set_title(\"Gender of Patient VS Readmission\")"
   ]
  },
  {
   "cell_type": "code",
   "execution_count": 22,
   "metadata": {
    "slideshow": {
     "slide_type": "subslide"
    }
   },
   "outputs": [],
   "source": [
    "#Encoding change as 0 & 1\n",
    "df['change'] = df['change'].replace('Ch', 1)\n",
    "df['change'] = df['change'].replace('No', 0)"
   ]
  },
  {
   "cell_type": "code",
   "execution_count": 23,
   "metadata": {
    "slideshow": {
     "slide_type": "fragment"
    }
   },
   "outputs": [
    {
     "data": {
      "text/plain": [
       "Text(0.5,1,'Change of Medication VS Readmission')"
      ]
     },
     "execution_count": 23,
     "metadata": {},
     "output_type": "execute_result"
    },
    {
     "data": {
      "image/png": "[encoded data removed]",
      "text/plain": [
       "<Figure size 576x576 with 1 Axes>"
      ]
     },
     "metadata": {},
     "output_type": "display_data"
    }
   ],
   "source": [
    "fig = plt.figure(figsize=(8,8))\n",
    "sns.countplot(df['change'], hue = df['readmitted']).set_title('Change of Medication VS Readmission')"
   ]
  },
  {
   "cell_type": "code",
   "execution_count": 24,
   "metadata": {
    "slideshow": {
     "slide_type": "subslide"
    }
   },
   "outputs": [],
   "source": [
    "#Encoding diabetesMed as 0 & 1\n",
    "df['diabetesMed'] = df['diabetesMed'].replace('Yes', 1)\n",
    "df['diabetesMed'] = df['diabetesMed'].replace('No', 0)"
   ]
  },
  {
   "cell_type": "code",
   "execution_count": 25,
   "metadata": {
    "slideshow": {
     "slide_type": "fragment"
    }
   },
   "outputs": [
    {
     "data": {
      "text/plain": [
       "Text(0.5,1,'Diabetes Medication prescribed VS Readmission')"
      ]
     },
     "execution_count": 25,
     "metadata": {},
     "output_type": "execute_result"
    },
    {
     "data": {
      "image/png": "[encoded data removed]",
      "text/plain": [
       "<Figure size 576x576 with 1 Axes>"
      ]
     },
     "metadata": {},
     "output_type": "display_data"
    }
   ],
   "source": [
    "fig = plt.figure(figsize=(8,8))\n",
    "sns.countplot(df['diabetesMed'], hue = df['readmitted']).set_title('Diabetes Medication prescribed VS Readmission')"
   ]
  },
  {
   "cell_type": "code",
   "execution_count": 26,
   "metadata": {
    "slideshow": {
     "slide_type": "subslide"
    }
   },
   "outputs": [],
   "source": [
    "# Checking medication column and how data are distributed\n",
    "medication=df[['metformin',\n",
    "'repaglinide',\n",
    "'nateglinide',\n",
    "'chlorpropamide',\n",
    "'glimepiride',\n",
    "'acetohexamide',\n",
    "'glipizide',\n",
    "'glyburide',\n",
    "'tolbutamide',\n",
    "'pioglitazone',\n",
    "'rosiglitazone',\n",
    "'acarbose',\n",
    "'miglitol',\n",
    "'troglitazone',\n",
    "'tolazamide',\n",
    "'insulin',\n",
    "'glyburide.metformin',\n",
    "'glipizide.metformin',\n",
    "'metformin.rosiglitazone',\n",
    "'metformin.pioglitazone']]"
   ]
  },
  {
   "cell_type": "code",
   "execution_count": 27,
   "metadata": {
    "slideshow": {
     "slide_type": "fragment"
    }
   },
   "outputs": [
    {
     "data": {
      "image/png": "[encoded data removed]",
      "text/plain": [
       "<Figure size 2160x1080 with 1 Axes>"
      ]
     },
     "metadata": {},
     "output_type": "display_data"
    }
   ],
   "source": [
    "plt.figure(figsize=(30, 15))\n",
    "sns.countplot(x=\"variable\", hue=\"value\", data=pd.melt(medication))\n",
    "plt.show()"
   ]
  },
  {
   "cell_type": "code",
   "execution_count": 28,
   "metadata": {
    "slideshow": {
     "slide_type": "subslide"
    }
   },
   "outputs": [],
   "source": [
    "# For medication, creating either it has effect or it has no effect\n",
    "medication=['metformin',\n",
    "'repaglinide',\n",
    "'nateglinide',\n",
    "'glimepiride',\n",
    "'glipizide',\n",
    "'glyburide',\n",
    "'pioglitazone',\n",
    "'rosiglitazone',\n",
    "'insulin',\n",
    "'glyburide.metformin']\n",
    "\n",
    "\n",
    "for col in medication:\n",
    "    df[col] = df[col].replace('No', 0)\n",
    "    df[col] = df[col].replace('Steady', 1)\n",
    "    df[col] = df[col].replace('Up', 1)\n",
    "    df[col] = df[col].replace('Down', 1)"
   ]
  },
  {
   "cell_type": "code",
   "execution_count": 29,
   "metadata": {
    "slideshow": {
     "slide_type": "fragment"
    }
   },
   "outputs": [
    {
     "name": "stderr",
     "output_type": "stream",
     "text": [
      "C:\\Users\\U0170371\\AppData\\Local\\Continuum\\anaconda3\\lib\\site-packages\\scipy\\stats\\stats.py:1713: FutureWarning: Using a non-tuple sequence for multidimensional indexing is deprecated; use `arr[tuple(seq)]` instead of `arr[seq]`. In the future this will be interpreted as an array index, `arr[np.array(seq)]`, which will result either in an error or a different result.\n",
      "  return np.add.reduce(sorted[indexer] * weights, axis=axis) / sumval\n"
     ]
    },
    {
     "data": {
      "text/plain": [
       "Text(0.5,1,'Number of medication used VS Readmission')"
      ]
     },
     "execution_count": 29,
     "metadata": {},
     "output_type": "execute_result"
    },
    {
     "data": {
      "image/png": "[encoded data removed]",
      "text/plain": [
       "<Figure size 576x576 with 1 Axes>"
      ]
     },
     "metadata": {},
     "output_type": "display_data"
    }
   ],
   "source": [
    "fig = plt.figure(figsize=(8,8))\n",
    "sns.barplot(x = df['readmitted'], y = df['num_medications']).set_title(\"Number of medication used VS Readmission\")"
   ]
  },
  {
   "cell_type": "code",
   "execution_count": 30,
   "metadata": {
    "slideshow": {
     "slide_type": "subslide"
    }
   },
   "outputs": [],
   "source": [
    "# Encoding A1C test result \n",
    "df['A1Cresult'] = df['A1Cresult'].replace('>7', 1)\n",
    "df['A1Cresult'] = df['A1Cresult'].replace('>8', 1)\n",
    "df['A1Cresult'] = df['A1Cresult'].replace('Norm', 0)\n",
    "df['A1Cresult'] = df['A1Cresult'].replace('None', -1)"
   ]
  },
  {
   "cell_type": "code",
   "execution_count": 31,
   "metadata": {
    "slideshow": {
     "slide_type": "fragment"
    }
   },
   "outputs": [
    {
     "data": {
      "text/plain": [
       "Text(0.5,1,'A1C test result VS Readmission')"
      ]
     },
     "execution_count": 31,
     "metadata": {},
     "output_type": "execute_result"
    },
    {
     "data": {
      "image/png": "[encoded data removed]",
      "text/plain": [
       "<Figure size 576x576 with 1 Axes>"
      ]
     },
     "metadata": {},
     "output_type": "display_data"
    }
   ],
   "source": [
    "fig = plt.figure(figsize=(8,8))\n",
    "sns.countplot(x= df['A1Cresult'], hue = df['readmitted']).set_title('A1C test result VS Readmission')"
   ]
  },
  {
   "cell_type": "code",
   "execution_count": 32,
   "metadata": {
    "slideshow": {
     "slide_type": "subslide"
    }
   },
   "outputs": [],
   "source": [
    "# Encoding max_glu_serum test result\n",
    "df['max_glu_serum'] = df['max_glu_serum'].replace('>200', 1)\n",
    "df['max_glu_serum'] = df['max_glu_serum'].replace('>300', 1)\n",
    "df['max_glu_serum'] = df['max_glu_serum'].replace('Norm', 0)\n",
    "df['max_glu_serum'] = df['max_glu_serum'].replace('None', -1)"
   ]
  },
  {
   "cell_type": "code",
   "execution_count": 33,
   "metadata": {
    "slideshow": {
     "slide_type": "fragment"
    }
   },
   "outputs": [
    {
     "data": {
      "text/plain": [
       "Text(0.5,1,'Glucose test serum test result VS Readmission')"
      ]
     },
     "execution_count": 33,
     "metadata": {},
     "output_type": "execute_result"
    },
    {
     "data": {
      "image/png": "[encoded data removed]",
      "text/plain": [
       "<Figure size 576x576 with 1 Axes>"
      ]
     },
     "metadata": {},
     "output_type": "display_data"
    }
   ],
   "source": [
    "fig = plt.figure(figsize=(8,8))\n",
    "sns.countplot(x = df['max_glu_serum'], hue = df['readmitted']).set_title('Glucose test serum test result VS Readmission')"
   ]
  },
  {
   "cell_type": "code",
   "execution_count": 34,
   "metadata": {
    "slideshow": {
     "slide_type": "subslide"
    }
   },
   "outputs": [],
   "source": [
    "# Calculating time_in_hospital\n",
    "df['Admission_date'] = pd.to_datetime(df['Admission_date'])\n",
    "df['Discharge_date'] = pd.to_datetime(df['Discharge_date'])\n",
    "df['time_in_hospital'] = (df['Discharge_date'] - df['Admission_date']).dt.days\n",
    "df['time_in_hospital'] = df['time_in_hospital'].astype('int32')"
   ]
  },
  {
   "cell_type": "code",
   "execution_count": 35,
   "metadata": {
    "slideshow": {
     "slide_type": "fragment"
    }
   },
   "outputs": [
    {
     "data": {
      "text/plain": [
       "Text(0.5,1,'Time_in_hospital VS Readmission')"
      ]
     },
     "execution_count": 35,
     "metadata": {},
     "output_type": "execute_result"
    },
    {
     "data": {
      "image/png": "[encoded data removed]",
      "text/plain": [
       "<Figure size 1008x720 with 1 Axes>"
      ]
     },
     "metadata": {},
     "output_type": "display_data"
    }
   ],
   "source": [
    "fig = plt.figure(figsize=(14,10))\n",
    "sns.countplot(x = df['time_in_hospital'], hue = df['readmitted']).set_title('Time_in_hospital VS Readmission')"
   ]
  },
  {
   "cell_type": "code",
   "execution_count": 36,
   "metadata": {
    "slideshow": {
     "slide_type": "subslide"
    }
   },
   "outputs": [],
   "source": [
    "# Creating categories for different type of diagnosis\n",
    "df['D1'] = df['diagnosis_1']\n",
    "df['D2'] = df['diagnosis_2']\n",
    "df['D3'] = df['diagnosis_3']"
   ]
  },
  {
   "cell_type": "code",
   "execution_count": 37,
   "metadata": {
    "slideshow": {
     "slide_type": "fragment"
    }
   },
   "outputs": [],
   "source": [
    "# disease codes starting with V or E are recoded to 0\n",
    "df.loc[df['diagnosis_1'].str.contains('V'), ['D1']] = 0\n",
    "df.loc[df['diagnosis_1'].str.contains('E'), ['D1']] = 0\n",
    "df.loc[df['diagnosis_2'].str.contains('V'), ['D2']] = 0\n",
    "df.loc[df['diagnosis_2'].str.contains('E'), ['D2']] = 0\n",
    "df.loc[df['diagnosis_3'].str.contains('V'), ['D3']] = 0\n",
    "df.loc[df['diagnosis_3'].str.contains('E'), ['D3']] = 0"
   ]
  },
  {
   "cell_type": "code",
   "execution_count": 38,
   "metadata": {
    "slideshow": {
     "slide_type": "fragment"
    }
   },
   "outputs": [],
   "source": [
    "df['D1'] = df['D1'].astype(float)\n",
    "df['D2'] = df['D2'].astype(float)\n",
    "df['D3'] = df['D3'].astype(float)"
   ]
  },
  {
   "cell_type": "code",
   "execution_count": 39,
   "metadata": {
    "slideshow": {
     "slide_type": "subslide"
    }
   },
   "outputs": [],
   "source": [
    "# Creating categories as per ICD-9 codes\n",
    "for index, row in df.iterrows():\n",
    "    if (row['D1'] >= 1 and row['D1'] < 139.9):\n",
    "        df.loc[index, 'D1'] = 1\n",
    "    elif (row['D1'] >= 140 and row['D1'] < 239.9):\n",
    "        df.loc[index, 'D1'] = 2\n",
    "    elif (row['D1'] >= 240 and row['D1'] < 279.9):\n",
    "        df.loc[index, 'D1'] = 3\n",
    "    elif (row['D1'] >= 280 and row['D1'] < 289.9):\n",
    "        df.loc[index, 'D1'] = 4\n",
    "    elif (row['D1'] >= 290 and row['D1'] < 319):\n",
    "        df.loc[index, 'D1'] = 5\n",
    "    elif (row['D1'] >= 320 and row['D1'] < 389.9):\n",
    "        df.loc[index, 'D1'] = 6\n",
    "    elif (row['D1'] >= 390 and row['D1'] < 459.9):\n",
    "        df.loc[index, 'D1'] = 7\n",
    "    elif (row['D1'] >= 460 and row['D1'] < 519.9):\n",
    "        df.loc[index, 'D1'] = 8\n",
    "    elif (row['D1'] >= 520 and row['D1'] < 579.9):\n",
    "        df.loc[index, 'D1'] = 9\n",
    "    elif (row['D1'] >= 580 and row['D1'] < 629.9):\n",
    "        df.loc[index, 'D1'] = 10\n",
    "    elif (row['D1'] >= 630 and row['D1'] < 676.9):\n",
    "        df.loc[index, 'D1'] = 11\n",
    "    elif (row['D1'] >= 680 and row['D1'] < 709.9):\n",
    "        df.loc[index, 'D1'] = 12\n",
    "    elif (row['D1'] >= 710 and row['D1'] < 739.9):\n",
    "        df.loc[index, 'D1'] = 13\n",
    "    elif (row['D1'] >= 740 and row['D1'] < 759.9):\n",
    "        df.loc[index, 'D1'] = 14\n",
    "    elif (row['D1'] >= 760 and row['D1'] < 779.9):\n",
    "        df.loc[index, 'D1'] = 15\n",
    "    elif (row['D1'] >= 780 and row['D1'] < 799.9):\n",
    "        df.loc[index, 'D1'] = 16\n",
    "    elif (row['D1'] >= 800 and row['D1'] < 999.9):\n",
    "        df.loc[index, 'D1'] = 17\n",
    "    else:\n",
    "        df.loc[index, 'D1'] = 0\n",
    "           \n",
    "        \n",
    "\n",
    "for index, row in df.iterrows():\n",
    "    if (row['D2'] >= 1 and row['D2'] < 139.9):\n",
    "        df.loc[index, 'D2'] = 1\n",
    "    elif (row['D2'] >= 140 and row['D2'] < 239.9):\n",
    "        df.loc[index, 'D2'] = 2\n",
    "    elif (row['D2'] >= 240 and row['D2'] < 279.9):\n",
    "        df.loc[index, 'D2'] = 3\n",
    "    elif (row['D2'] >= 280 and row['D2'] < 289.9):\n",
    "        df.loc[index, 'D2'] = 4\n",
    "    elif (row['D2'] >= 290 and row['D2'] < 319):\n",
    "        df.loc[index, 'D2'] = 5\n",
    "    elif (row['D2'] >= 320 and row['D2'] < 389.9):\n",
    "        df.loc[index, 'D2'] = 6\n",
    "    elif (row['D2'] >= 390 and row['D2'] < 459.9):\n",
    "        df.loc[index, 'D2'] = 7\n",
    "    elif (row['D2'] >= 460 and row['D2'] < 519.9):\n",
    "        df.loc[index, 'D2'] = 8\n",
    "    elif (row['D2'] >= 520 and row['D2'] < 579.9):\n",
    "        df.loc[index, 'D2'] = 9\n",
    "    elif (row['D2'] >= 580 and row['D2'] < 629.9):\n",
    "        df.loc[index, 'D2'] = 10\n",
    "    elif (row['D2'] >= 630 and row['D2'] < 676.9):\n",
    "        df.loc[index, 'D2'] = 11\n",
    "    elif (row['D2'] >= 680 and row['D2'] < 709.9):\n",
    "        df.loc[index, 'D2'] = 12\n",
    "    elif (row['D2'] >= 710 and row['D2'] < 739.9):\n",
    "        df.loc[index, 'D2'] = 13\n",
    "    elif (row['D2'] >= 740 and row['D2'] < 759.9):\n",
    "        df.loc[index, 'D2'] = 14\n",
    "    elif (row['D2'] >= 760 and row['D2'] < 779.9):\n",
    "        df.loc[index, 'D2'] = 15\n",
    "    elif (row['D2'] >= 780 and row['D2'] < 799.9):\n",
    "        df.loc[index, 'D2'] = 16\n",
    "    elif (row['D2'] >= 800 and row['D2'] < 999.9):\n",
    "        df.loc[index, 'D2'] = 17\n",
    "    else:\n",
    "        df.loc[index, 'D2'] = 0\n",
    "        \n",
    "        \n",
    "\n",
    "for index, row in df.iterrows():\n",
    "    if (row['D3'] >= 1 and row['D3'] < 139.9):\n",
    "        df.loc[index, 'D3'] = 1\n",
    "    elif (row['D3'] >= 140 and row['D3'] < 239.9):\n",
    "        df.loc[index, 'D3'] = 2\n",
    "    elif (row['D3'] >= 240 and row['D3'] < 279.9):\n",
    "        df.loc[index, 'D3'] = 3\n",
    "    elif (row['D3'] >= 280 and row['D3'] < 289.9):\n",
    "        df.loc[index, 'D3'] = 4\n",
    "    elif (row['D3'] >= 290 and row['D3'] < 319):\n",
    "        df.loc[index, 'D3'] = 5\n",
    "    elif (row['D3'] >= 320 and row['D3'] < 389.9):\n",
    "        df.loc[index, 'D3'] = 6\n",
    "    elif (row['D3'] >= 390 and row['D3'] < 459.9):\n",
    "        df.loc[index, 'D3'] = 7\n",
    "    elif (row['D3'] >= 460 and row['D3'] < 519.9):\n",
    "        df.loc[index, 'D3'] = 8\n",
    "    elif (row['D3'] >= 520 and row['D3'] < 579.9):\n",
    "        df.loc[index, 'D3'] = 9\n",
    "    elif (row['D3'] >= 580 and row['D3'] < 629.9):\n",
    "        df.loc[index, 'D3'] = 10\n",
    "    elif (row['D3'] >= 630 and row['D3'] < 676.9):\n",
    "        df.loc[index, 'D3'] = 11\n",
    "    elif (row['D3'] >= 680 and row['D3'] < 709.9):\n",
    "        df.loc[index, 'D3'] = 12\n",
    "    elif (row['D3'] >= 710 and row['D3'] < 739.9):\n",
    "        df.loc[index, 'D3'] = 13\n",
    "    elif (row['D3'] >= 740 and row['D3'] < 759.9):\n",
    "        df.loc[index, 'D3'] = 14\n",
    "    elif (row['D3'] >= 760 and row['D3'] < 779.9):\n",
    "        df.loc[index, 'D3'] = 15\n",
    "    elif (row['D3'] >= 780 and row['D3'] < 799.9):\n",
    "        df.loc[index, 'D3'] = 16\n",
    "    elif (row['D3'] >= 800 and row['D3'] < 999.9):\n",
    "        df.loc[index, 'D3'] = 17\n",
    "    else:\n",
    "        df.loc[index, 'D3'] = 0\n"
   ]
  },
  {
   "cell_type": "code",
   "execution_count": 40,
   "metadata": {
    "slideshow": {
     "slide_type": "subslide"
    }
   },
   "outputs": [
    {
     "data": {
      "text/plain": [
       "Text(0.5,1,'Diagnosis test One VS Readmission')"
      ]
     },
     "execution_count": 40,
     "metadata": {},
     "output_type": "execute_result"
    },
    {
     "data": {
      "image/png": "[encoded data removed]",
      "text/plain": [
       "<Figure size 1008x720 with 1 Axes>"
      ]
     },
     "metadata": {},
     "output_type": "display_data"
    }
   ],
   "source": [
    "fig = plt.figure(figsize=(14,10))\n",
    "sns.countplot(x = df['D1'], hue = df['readmitted']).set_title('Diagnosis test One VS Readmission')"
   ]
  },
  {
   "cell_type": "code",
   "execution_count": 41,
   "metadata": {
    "slideshow": {
     "slide_type": "subslide"
    }
   },
   "outputs": [
    {
     "data": {
      "text/plain": [
       "Text(0.5,1,'Diagnosis test two VS Readmission')"
      ]
     },
     "execution_count": 41,
     "metadata": {},
     "output_type": "execute_result"
    },
    {
     "data": {
      "image/png": "[encoded data removed]",
      "text/plain": [
       "<Figure size 1008x720 with 1 Axes>"
      ]
     },
     "metadata": {},
     "output_type": "display_data"
    }
   ],
   "source": [
    "fig = plt.figure(figsize=(14,10))\n",
    "sns.countplot(x = df['D2'], hue = df['readmitted']).set_title('Diagnosis test two VS Readmission')"
   ]
  },
  {
   "cell_type": "code",
   "execution_count": 42,
   "metadata": {
    "slideshow": {
     "slide_type": "subslide"
    }
   },
   "outputs": [
    {
     "data": {
      "text/plain": [
       "Text(0.5,1,'Diagnosis test three VS Readmission')"
      ]
     },
     "execution_count": 42,
     "metadata": {},
     "output_type": "execute_result"
    },
    {
     "data": {
      "image/png": "[encoded data removed]",
      "text/plain": [
       "<Figure size 1008x720 with 1 Axes>"
      ]
     },
     "metadata": {},
     "output_type": "display_data"
    }
   ],
   "source": [
    "fig = plt.figure(figsize=(14,10))\n",
    "sns.countplot(x = df['D3'], hue = df['readmitted']).set_title('Diagnosis test three VS Readmission')"
   ]
  },
  {
   "cell_type": "code",
   "execution_count": 43,
   "metadata": {
    "slideshow": {
     "slide_type": "subslide"
    }
   },
   "outputs": [],
   "source": [
    "# Creating subcategory for admission_type_id\n",
    "df['admission_type_id'] = df['admission_type_id'].replace([1,2,7],1)\n",
    "df['admission_type_id'] = df['admission_type_id'].replace([5,6,8],2)\n",
    "df['admission_type_id'] = df['admission_type_id'].replace([3,4],3)"
   ]
  },
  {
   "cell_type": "code",
   "execution_count": 44,
   "metadata": {
    "slideshow": {
     "slide_type": "fragment"
    }
   },
   "outputs": [
    {
     "data": {
      "text/plain": [
       "Text(0.5,1,'Admission type of Patient VS Readmission')"
      ]
     },
     "execution_count": 44,
     "metadata": {},
     "output_type": "execute_result"
    },
    {
     "data": {
      "image/png": "[encoded data removed]",
      "text/plain": [
       "<Figure size 864x576 with 1 Axes>"
      ]
     },
     "metadata": {},
     "output_type": "display_data"
    }
   ],
   "source": [
    "fig = plt.figure(figsize=(12,8))\n",
    "sns.countplot(x= df['admission_type_id'], hue = df['readmitted']).set_title('Admission type of Patient VS Readmission')"
   ]
  },
  {
   "cell_type": "code",
   "execution_count": 45,
   "metadata": {
    "slideshow": {
     "slide_type": "subslide"
    }
   },
   "outputs": [],
   "source": [
    "# Creating subcategory for discharge_disposition_id\n",
    "df['discharge_disposition_id'] = df['discharge_disposition_id'].replace([1,6,8,7,13],1)\n",
    "df['discharge_disposition_id'] = df['discharge_disposition_id'].replace([2,3,10,14,16,22,23,24,27,28,29,30],2)\n",
    "df['discharge_disposition_id'] = df['discharge_disposition_id'].replace([4,5,9,12,15,17],3)\n",
    "df['discharge_disposition_id'] = df['discharge_disposition_id'].replace([11,19,20,21],4)\n",
    "df['discharge_disposition_id'] = df['discharge_disposition_id'].replace([18,25,26],5)"
   ]
  },
  {
   "cell_type": "code",
   "execution_count": 46,
   "metadata": {
    "slideshow": {
     "slide_type": "fragment"
    }
   },
   "outputs": [
    {
     "data": {
      "text/plain": [
       "Text(0.5,1,'Discharge type of Patient VS Readmission')"
      ]
     },
     "execution_count": 46,
     "metadata": {},
     "output_type": "execute_result"
    },
    {
     "data": {
      "image/png": "[encoded data removed]",
      "text/plain": [
       "<Figure size 864x576 with 1 Axes>"
      ]
     },
     "metadata": {},
     "output_type": "display_data"
    }
   ],
   "source": [
    "fig = plt.figure(figsize=(12,8))\n",
    "sns.countplot(x= df['discharge_disposition_id'], hue = df['readmitted']).set_title('Discharge type of Patient VS Readmission')"
   ]
  },
  {
   "cell_type": "code",
   "execution_count": 47,
   "metadata": {
    "slideshow": {
     "slide_type": "subslide"
    }
   },
   "outputs": [],
   "source": [
    "# Creating subcategory for admission_source_id\n",
    "df['admission_source_id'] = df['admission_source_id'].replace([1,2,3],1)\n",
    "df['admission_source_id'] = df['admission_source_id'].replace([4,5,6,18,19,22,25,26],2)\n",
    "df['admission_source_id'] = df['admission_source_id'].replace([7,8,10],3)\n",
    "df['admission_source_id'] = df['admission_source_id'].replace([11,12,13,14,23,24],4)\n",
    "df['admission_source_id'] = df['admission_source_id'].replace([9,15,17,20,21],5)"
   ]
  },
  {
   "cell_type": "code",
   "execution_count": 48,
   "metadata": {
    "slideshow": {
     "slide_type": "fragment"
    }
   },
   "outputs": [
    {
     "data": {
      "text/plain": [
       "Text(0.5,1,'Admission source of Patient VS Readmission')"
      ]
     },
     "execution_count": 48,
     "metadata": {},
     "output_type": "execute_result"
    },
    {
     "data": {
      "image/png": "[encoded data removed]",
      "text/plain": [
       "<Figure size 864x576 with 1 Axes>"
      ]
     },
     "metadata": {},
     "output_type": "display_data"
    }
   ],
   "source": [
    "fig = plt.figure(figsize=(12,8))\n",
    "sns.countplot(x= df['admission_source_id'], hue = df['readmitted']).set_title('Admission source of Patient VS Readmission')"
   ]
  },
  {
   "cell_type": "code",
   "execution_count": 49,
   "metadata": {
    "slideshow": {
     "slide_type": "subslide"
    }
   },
   "outputs": [],
   "source": [
    "# Dropping unwanted columns\n",
    "df = df.drop(['diagnosis_1', 'diagnosis_2','diagnosis_3','AdmissionID','Admission_date','Discharge_date'], axis=1)"
   ]
  },
  {
   "cell_type": "code",
   "execution_count": 50,
   "metadata": {
    "slideshow": {
     "slide_type": "fragment"
    }
   },
   "outputs": [],
   "source": [
    "# Renaming D1,D2,D3 as diagnosis_1,diagnosis_2,diagnosis_3\n",
    "df = df.rename({'D1': 'diagnosis_1', 'D2': 'diagnosis_2','D3': 'diagnosis_3'}, axis=1)\n"
   ]
  },
  {
   "cell_type": "code",
   "execution_count": 51,
   "metadata": {
    "slideshow": {
     "slide_type": "subslide"
    }
   },
   "outputs": [],
   "source": [
    "# Dummyfication of categorical variable\n",
    "df1 = df[[\n",
    "'race',\n",
    "'gender',\n",
    "'max_glu_serum',\n",
    "'A1Cresult',\n",
    "'metformin',\n",
    "'repaglinide',\n",
    "'nateglinide',\n",
    "'glimepiride',\n",
    "'glipizide',\n",
    "'glyburide',\n",
    "'pioglitazone',\n",
    "'rosiglitazone',\n",
    "'insulin',\n",
    "'glyburide.metformin',\n",
    "'change',\n",
    "'diabetesMed',\n",
    "'admission_type_id',\n",
    "'discharge_disposition_id',\n",
    "'admission_source_id',\n",
    "'diagnosis_1',\n",
    "'diagnosis_2',\n",
    "'diagnosis_3'\n",
    "]].astype('category')\n"
   ]
  },
  {
   "cell_type": "code",
   "execution_count": 52,
   "metadata": {
    "slideshow": {
     "slide_type": "fragment"
    }
   },
   "outputs": [],
   "source": [
    "for i in df1.columns:\n",
    "    if len(df1.groupby([i]).size()) > 2:\n",
    "         df1 = pd.get_dummies(df1, prefix=[i], columns=[i])\n",
    "df1 = pd.get_dummies(df1, drop_first=True)"
   ]
  },
  {
   "cell_type": "code",
   "execution_count": 53,
   "metadata": {
    "slideshow": {
     "slide_type": "subslide"
    }
   },
   "outputs": [],
   "source": [
    "# Normalization of numerical variables\n",
    "df2 = df[['age',\n",
    "'num_lab_procedures',\n",
    "'num_procedures',\n",
    "'num_medications',\n",
    "'num_diagnoses',\n",
    "'time_in_hospital']].astype('int64')"
   ]
  },
  {
   "cell_type": "code",
   "execution_count": 54,
   "metadata": {
    "slideshow": {
     "slide_type": "fragment"
    }
   },
   "outputs": [],
   "source": [
    "# Creating function for normalization\n",
    "def standardize(raw_data):\n",
    "    return ((raw_data - np.mean(raw_data, axis = 0)) / np.std(raw_data, axis = 0))\n",
    "\n",
    "df2 = standardize(df2)"
   ]
  },
  {
   "cell_type": "markdown",
   "metadata": {
    "slideshow": {
     "slide_type": "slide"
    }
   },
   "source": [
    "### Model Building"
   ]
  },
  {
   "cell_type": "code",
   "execution_count": 55,
   "metadata": {
    "slideshow": {
     "slide_type": "fragment"
    }
   },
   "outputs": [],
   "source": [
    "# Creating input and output data\n",
    "train_input = pd.concat([df1,df2], axis=1)\n",
    "train_output= df[['readmitted']].astype('category')\n"
   ]
  },
  {
   "cell_type": "markdown",
   "metadata": {
    "slideshow": {
     "slide_type": "subslide"
    }
   },
   "source": [
    "### Logistic Regression"
   ]
  },
  {
   "cell_type": "code",
   "execution_count": 57,
   "metadata": {
    "slideshow": {
     "slide_type": "fragment"
    }
   },
   "outputs": [
    {
     "name": "stderr",
     "output_type": "stream",
     "text": [
      "C:\\Users\\U0170371\\AppData\\Local\\Continuum\\anaconda3\\lib\\site-packages\\sklearn\\utils\\validation.py:724: DataConversionWarning: A column-vector y was passed when a 1d array was expected. Please change the shape of y to (n_samples, ), for example using ravel().\n",
      "  y = column_or_1d(y, warn=True)\n",
      "C:\\Users\\U0170371\\AppData\\Local\\Continuum\\anaconda3\\lib\\site-packages\\sklearn\\utils\\validation.py:724: DataConversionWarning: A column-vector y was passed when a 1d array was expected. Please change the shape of y to (n_samples, ), for example using ravel().\n",
      "  y = column_or_1d(y, warn=True)\n"
     ]
    },
    {
     "name": "stdout",
     "output_type": "stream",
     "text": [
      "New dataset shape Counter({0: 29891, 1: 29891})\n"
     ]
    }
   ],
   "source": [
    "from imblearn.over_sampling import SMOTE\n",
    "from collections import Counter\n",
    "sm = SMOTE(random_state=20)\n",
    "train_input_new, train_output_new = sm.fit_sample(train_input, train_output)\n",
    "print('New dataset shape {}'.format(Counter(train_output_new)))"
   ]
  },
  {
   "cell_type": "code",
   "execution_count": 60,
   "metadata": {
    "slideshow": {
     "slide_type": "fragment"
    }
   },
   "outputs": [],
   "source": [
    "from sklearn.model_selection import train_test_split\n",
    "train_input_new = pd.DataFrame(train_input_new, columns = list(train_input.columns))\n",
    "X_train, X_test, y_train, y_test = train_test_split(train_input_new, train_output_new, test_size=0.20, random_state=0)"
   ]
  },
  {
   "cell_type": "code",
   "execution_count": 61,
   "metadata": {
    "slideshow": {
     "slide_type": "fragment"
    }
   },
   "outputs": [
    {
     "name": "stderr",
     "output_type": "stream",
     "text": [
      "C:\\Users\\U0170371\\AppData\\Local\\Continuum\\anaconda3\\lib\\site-packages\\sklearn\\linear_model\\logistic.py:432: FutureWarning: Default solver will be changed to 'lbfgs' in 0.22. Specify a solver to silence this warning.\n",
      "  FutureWarning)\n"
     ]
    },
    {
     "data": {
      "text/plain": [
       "LogisticRegression(C=1.0, class_weight=None, dual=False, fit_intercept=True,\n",
       "                   intercept_scaling=1, l1_ratio=None, max_iter=100,\n",
       "                   multi_class='warn', n_jobs=None, penalty='l1',\n",
       "                   random_state=None, solver='warn', tol=0.0001, verbose=0,\n",
       "                   warm_start=False)"
      ]
     },
     "execution_count": 61,
     "metadata": {},
     "output_type": "execute_result"
    }
   ],
   "source": [
    "from sklearn.model_selection import train_test_split\n",
    "from sklearn.linear_model import LogisticRegression\n",
    "from sklearn.model_selection import cross_val_score\n",
    "\n",
    "logit = LogisticRegression(fit_intercept=True, penalty='l1')\n",
    "logit.fit(X_train, y_train)"
   ]
  },
  {
   "cell_type": "code",
   "execution_count": 62,
   "metadata": {
    "slideshow": {
     "slide_type": "fragment"
    }
   },
   "outputs": [
    {
     "data": {
      "text/html": [
       "<div>\n",
       "<style scoped>\n",
       "    .dataframe tbody tr th:only-of-type {\n",
       "        vertical-align: middle;\n",
       "    }\n",
       "\n",
       "    .dataframe tbody tr th {\n",
       "        vertical-align: top;\n",
       "    }\n",
       "\n",
       "    .dataframe thead th {\n",
       "        text-align: right;\n",
       "    }\n",
       "</style>\n",
       "<table border=\"1\" class=\"dataframe\">\n",
       "  <thead>\n",
       "    <tr style=\"text-align: right;\">\n",
       "      <th>Predict</th>\n",
       "      <th>0</th>\n",
       "      <th>1</th>\n",
       "      <th>All</th>\n",
       "    </tr>\n",
       "    <tr>\n",
       "      <th>Actual</th>\n",
       "      <th></th>\n",
       "      <th></th>\n",
       "      <th></th>\n",
       "    </tr>\n",
       "  </thead>\n",
       "  <tbody>\n",
       "    <tr>\n",
       "      <th>0</th>\n",
       "      <td>3692</td>\n",
       "      <td>2224</td>\n",
       "      <td>5916</td>\n",
       "    </tr>\n",
       "    <tr>\n",
       "      <th>1</th>\n",
       "      <td>2248</td>\n",
       "      <td>3793</td>\n",
       "      <td>6041</td>\n",
       "    </tr>\n",
       "    <tr>\n",
       "      <th>All</th>\n",
       "      <td>5940</td>\n",
       "      <td>6017</td>\n",
       "      <td>11957</td>\n",
       "    </tr>\n",
       "  </tbody>\n",
       "</table>\n",
       "</div>"
      ],
      "text/plain": [
       "Predict     0     1    All\n",
       "Actual                    \n",
       "0        3692  2224   5916\n",
       "1        2248  3793   6041\n",
       "All      5940  6017  11957"
      ]
     },
     "execution_count": 62,
     "metadata": {},
     "output_type": "execute_result"
    }
   ],
   "source": [
    "logit_pred = logit.predict(X_test)\n",
    "pd.crosstab(pd.Series(y_test, name = 'Actual'), pd.Series(logit_pred, name = 'Predict'), margins = True)"
   ]
  },
  {
   "cell_type": "code",
   "execution_count": 65,
   "metadata": {
    "slideshow": {
     "slide_type": "fragment"
    }
   },
   "outputs": [
    {
     "name": "stdout",
     "output_type": "stream",
     "text": [
      "Accuracy is 0.63\n",
      "Precision is 0.63\n",
      "Recall is 0.63\n"
     ]
    }
   ],
   "source": [
    "from sklearn.metrics import accuracy_score, precision_score, recall_score, roc_auc_score\n",
    "print(\"Accuracy is {0:.2f}\".format(accuracy_score(y_test, logit_pred)))\n",
    "print(\"Precision is {0:.2f}\".format(precision_score(y_test, logit_pred)))\n",
    "print(\"Recall is {0:.2f}\".format(recall_score(y_test, logit_pred)))"
   ]
  },
  {
   "cell_type": "markdown",
   "metadata": {
    "slideshow": {
     "slide_type": "subslide"
    }
   },
   "source": [
    "### Decision Tree"
   ]
  },
  {
   "cell_type": "code",
   "execution_count": 77,
   "metadata": {
    "slideshow": {
     "slide_type": "fragment"
    }
   },
   "outputs": [
    {
     "data": {
      "text/plain": [
       "DecisionTreeClassifier(class_weight=None, criterion='entropy', max_depth=21,\n",
       "                       max_features=None, max_leaf_nodes=None,\n",
       "                       min_impurity_decrease=0.0, min_impurity_split=None,\n",
       "                       min_samples_leaf=1, min_samples_split=8,\n",
       "                       min_weight_fraction_leaf=0.0, presort=False,\n",
       "                       random_state=None, splitter='best')"
      ]
     },
     "execution_count": 77,
     "metadata": {},
     "output_type": "execute_result"
    }
   ],
   "source": [
    "from sklearn.tree import DecisionTreeClassifier\n",
    "dtree = DecisionTreeClassifier(max_depth=21, criterion = \"entropy\", min_samples_split=8)\n",
    "dtree.fit(X_train, y_train)"
   ]
  },
  {
   "cell_type": "code",
   "execution_count": 78,
   "metadata": {
    "slideshow": {
     "slide_type": "fragment"
    }
   },
   "outputs": [
    {
     "data": {
      "text/html": [
       "<div>\n",
       "<style scoped>\n",
       "    .dataframe tbody tr th:only-of-type {\n",
       "        vertical-align: middle;\n",
       "    }\n",
       "\n",
       "    .dataframe tbody tr th {\n",
       "        vertical-align: top;\n",
       "    }\n",
       "\n",
       "    .dataframe thead th {\n",
       "        text-align: right;\n",
       "    }\n",
       "</style>\n",
       "<table border=\"1\" class=\"dataframe\">\n",
       "  <thead>\n",
       "    <tr style=\"text-align: right;\">\n",
       "      <th>Predict</th>\n",
       "      <th>0</th>\n",
       "      <th>1</th>\n",
       "      <th>All</th>\n",
       "    </tr>\n",
       "    <tr>\n",
       "      <th>Actual</th>\n",
       "      <th></th>\n",
       "      <th></th>\n",
       "      <th></th>\n",
       "    </tr>\n",
       "  </thead>\n",
       "  <tbody>\n",
       "    <tr>\n",
       "      <th>0</th>\n",
       "      <td>5342</td>\n",
       "      <td>574</td>\n",
       "      <td>5916</td>\n",
       "    </tr>\n",
       "    <tr>\n",
       "      <th>1</th>\n",
       "      <td>1126</td>\n",
       "      <td>4915</td>\n",
       "      <td>6041</td>\n",
       "    </tr>\n",
       "    <tr>\n",
       "      <th>All</th>\n",
       "      <td>6468</td>\n",
       "      <td>5489</td>\n",
       "      <td>11957</td>\n",
       "    </tr>\n",
       "  </tbody>\n",
       "</table>\n",
       "</div>"
      ],
      "text/plain": [
       "Predict     0     1    All\n",
       "Actual                    \n",
       "0        5342   574   5916\n",
       "1        1126  4915   6041\n",
       "All      6468  5489  11957"
      ]
     },
     "execution_count": 78,
     "metadata": {},
     "output_type": "execute_result"
    }
   ],
   "source": [
    "dtree_pred = dtree.predict(X_test)\n",
    "pd.crosstab(pd.Series(y_test, name = 'Actual'), pd.Series(dtree_pred, name = 'Predict'), margins = True)"
   ]
  },
  {
   "cell_type": "code",
   "execution_count": 79,
   "metadata": {
    "slideshow": {
     "slide_type": "fragment"
    }
   },
   "outputs": [
    {
     "name": "stdout",
     "output_type": "stream",
     "text": [
      "Accuracy is 0.86\n",
      "Precision is 0.90\n",
      "Recall is 0.81\n"
     ]
    }
   ],
   "source": [
    "print(\"Accuracy is {0:.2f}\".format(accuracy_score(y_test, dtree_pred)))\n",
    "print(\"Precision is {0:.2f}\".format(precision_score(y_test, dtree_pred)))\n",
    "print(\"Recall is {0:.2f}\".format(recall_score(y_test, dtree_pred)))"
   ]
  },
  {
   "cell_type": "code",
   "execution_count": 80,
   "metadata": {
    "slideshow": {
     "slide_type": "subslide"
    }
   },
   "outputs": [
    {
     "name": "stdout",
     "output_type": "stream",
     "text": [
      "                       Feature  Importance\n",
      "65             diagnosis_3_7.0    0.013703\n",
      "31             diagnosis_1_7.0    0.017850\n",
      "48             diagnosis_2_7.0    0.021080\n",
      "92               num_diagnoses    0.022712\n",
      "90              num_procedures    0.023701\n",
      "15  discharge_disposition_id_2    0.029361\n",
      "91             num_medications    0.031688\n",
      "89          num_lab_procedures    0.036450\n",
      "88                         age    0.066011\n",
      "93            time_in_hospital    0.509742\n"
     ]
    },
    {
     "data": {
      "image/png": "[encoded data removed]",
      "text/plain": [
       "<Figure size 720x432 with 1 Axes>"
      ]
     },
     "metadata": {},
     "output_type": "display_data"
    }
   ],
   "source": [
    "# Create list of top most features based on importance\n",
    "feature_names = X_train.columns\n",
    "feature_imports = dtree.feature_importances_\n",
    "most_imp_features = pd.DataFrame([f for f in zip(feature_names,feature_imports)], columns=[\"Feature\", \"Importance\"]).nlargest(10, \"Importance\")\n",
    "most_imp_features.sort_values(by=\"Importance\", inplace=True)\n",
    "print(most_imp_features)\n",
    "plt.figure(figsize=(10,6))\n",
    "plt.barh(range(len(most_imp_features)), most_imp_features.Importance, align='center', alpha=0.8)\n",
    "plt.yticks(range(len(most_imp_features)), most_imp_features.Feature, fontsize=14)\n",
    "plt.xlabel('Importance')\n",
    "plt.title('Most important features - Decision Tree')\n",
    "plt.show()"
   ]
  },
  {
   "cell_type": "markdown",
   "metadata": {
    "slideshow": {
     "slide_type": "slide"
    }
   },
   "source": [
    "### Random Forest"
   ]
  },
  {
   "cell_type": "code",
   "execution_count": 81,
   "metadata": {
    "slideshow": {
     "slide_type": "fragment"
    }
   },
   "outputs": [
    {
     "data": {
      "text/plain": [
       "RandomForestClassifier(bootstrap=True, class_weight=None, criterion='gini',\n",
       "                       max_depth=21, max_features='auto', max_leaf_nodes=None,\n",
       "                       min_impurity_decrease=0.0, min_impurity_split=None,\n",
       "                       min_samples_leaf=1, min_samples_split=10,\n",
       "                       min_weight_fraction_leaf=0.0, n_estimators=11,\n",
       "                       n_jobs=None, oob_score=False, random_state=None,\n",
       "                       verbose=0, warm_start=False)"
      ]
     },
     "execution_count": 81,
     "metadata": {},
     "output_type": "execute_result"
    }
   ],
   "source": [
    "from sklearn.ensemble import RandomForestClassifier\n",
    "rm = RandomForestClassifier(n_estimators = 11, max_depth=21, criterion = \"gini\", min_samples_split=10)\n",
    "rm.fit(X_train, y_train)"
   ]
  },
  {
   "cell_type": "code",
   "execution_count": 82,
   "metadata": {
    "slideshow": {
     "slide_type": "fragment"
    }
   },
   "outputs": [
    {
     "data": {
      "text/html": [
       "<div>\n",
       "<style scoped>\n",
       "    .dataframe tbody tr th:only-of-type {\n",
       "        vertical-align: middle;\n",
       "    }\n",
       "\n",
       "    .dataframe tbody tr th {\n",
       "        vertical-align: top;\n",
       "    }\n",
       "\n",
       "    .dataframe thead th {\n",
       "        text-align: right;\n",
       "    }\n",
       "</style>\n",
       "<table border=\"1\" class=\"dataframe\">\n",
       "  <thead>\n",
       "    <tr style=\"text-align: right;\">\n",
       "      <th>Predict</th>\n",
       "      <th>0</th>\n",
       "      <th>1</th>\n",
       "      <th>All</th>\n",
       "    </tr>\n",
       "    <tr>\n",
       "      <th>Actual</th>\n",
       "      <th></th>\n",
       "      <th></th>\n",
       "      <th></th>\n",
       "    </tr>\n",
       "  </thead>\n",
       "  <tbody>\n",
       "    <tr>\n",
       "      <th>0</th>\n",
       "      <td>5689</td>\n",
       "      <td>227</td>\n",
       "      <td>5916</td>\n",
       "    </tr>\n",
       "    <tr>\n",
       "      <th>1</th>\n",
       "      <td>838</td>\n",
       "      <td>5203</td>\n",
       "      <td>6041</td>\n",
       "    </tr>\n",
       "    <tr>\n",
       "      <th>All</th>\n",
       "      <td>6527</td>\n",
       "      <td>5430</td>\n",
       "      <td>11957</td>\n",
       "    </tr>\n",
       "  </tbody>\n",
       "</table>\n",
       "</div>"
      ],
      "text/plain": [
       "Predict     0     1    All\n",
       "Actual                    \n",
       "0        5689   227   5916\n",
       "1         838  5203   6041\n",
       "All      6527  5430  11957"
      ]
     },
     "execution_count": 82,
     "metadata": {},
     "output_type": "execute_result"
    }
   ],
   "source": [
    "rm_prd = rm.predict(X_test)\n",
    "pd.crosstab(pd.Series(y_test, name = 'Actual'), pd.Series(rm_prd, name = 'Predict'), margins = True)"
   ]
  },
  {
   "cell_type": "code",
   "execution_count": 83,
   "metadata": {
    "slideshow": {
     "slide_type": "fragment"
    }
   },
   "outputs": [
    {
     "name": "stdout",
     "output_type": "stream",
     "text": [
      "Accuracy is 0.91\n",
      "Precision is 0.96\n",
      "Recall is 0.86\n"
     ]
    }
   ],
   "source": [
    "print(\"Accuracy is {0:.2f}\".format(accuracy_score(y_test, rm_prd)))\n",
    "print(\"Precision is {0:.2f}\".format(precision_score(y_test, rm_prd)))\n",
    "print(\"Recall is {0:.2f}\".format(recall_score(y_test, rm_prd)))"
   ]
  },
  {
   "cell_type": "code",
   "execution_count": 84,
   "metadata": {
    "slideshow": {
     "slide_type": "subslide"
    }
   },
   "outputs": [
    {
     "data": {
      "image/png": "[encoded data removed]",
      "text/plain": [
       "<Figure size 720x432 with 1 Axes>"
      ]
     },
     "metadata": {},
     "output_type": "display_data"
    }
   ],
   "source": [
    "# Create list of top most features based on importance\n",
    "feature_names = X_train.columns\n",
    "feature_imports = rm.feature_importances_\n",
    "most_imp_features = pd.DataFrame([f for f in zip(feature_names,feature_imports)], columns=[\"Feature\", \"Importance\"]).nlargest(10, \"Importance\")\n",
    "most_imp_features.sort_values(by=\"Importance\", inplace=True)\n",
    "plt.figure(figsize=(10,6))\n",
    "plt.barh(range(len(most_imp_features)), most_imp_features.Importance, align='center', alpha=0.8)\n",
    "plt.yticks(range(len(most_imp_features)), most_imp_features.Feature, fontsize=14)\n",
    "plt.xlabel('Importance')\n",
    "plt.title('Most important features - Random Forest ')\n",
    "plt.show()"
   ]
  },
  {
   "cell_type": "markdown",
   "metadata": {
    "slideshow": {
     "slide_type": "slide"
    }
   },
   "source": [
    "## Conclusion"
   ]
  },
  {
   "cell_type": "markdown",
   "metadata": {
    "slideshow": {
     "slide_type": "fragment"
    }
   },
   "source": [
    "On our train dataset Random forest tree model gives highest Accuracy, Precision and Recall value, with feature of importance as time spent in the hospital, age, number of medication and numberof daignoses.\n",
    "\n",
    "While on test dataset Decision Tree model gives better Accuracy, Precision and Recall value, with feature of importance as time spent in the hospital,age, daignoses, and number of medication.\n",
    "\n",
    "Here, Recall value plays an important role, since hospitals get penalized and incure additional costs both for the patient and the insurance agencies if a patient expected not to be readmitted shows up in 30 days."
   ]
  },
  {
   "cell_type": "code",
   "execution_count": null,
   "metadata": {},
   "outputs": [],
   "source": []
  }
 ],
 "metadata": {
  "celltoolbar": "Slideshow",
  "kernelspec": {
   "display_name": "Python 3",
   "language": "python",
   "name": "python3"
  },
  "language_info": {
   "codemirror_mode": {
    "name": "ipython",
    "version": 3
   },
   "file_extension": ".py",
   "mimetype": "text/x-python",
   "name": "python",
   "nbconvert_exporter": "python",
   "pygments_lexer": "ipython3",
   "version": "3.6.5"
  }
 },
 "nbformat": 4,
 "nbformat_minor": 2
}
